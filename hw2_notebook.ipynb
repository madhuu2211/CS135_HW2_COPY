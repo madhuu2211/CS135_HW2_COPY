{
  "cells": [
    {
      "cell_type": "markdown",
      "metadata": {
        "id": "6JWuaDlR3jru"
      },
      "source": [
        "# HW2 for CS 135 in Fall 2023\n",
        "\n",
        "Instructions:\n",
        "<https://www.cs.tufts.edu/cs/135/2023f/hw2.html>\n",
        "\n",
        "This notebook is specifically for the report related to Problem 1\n",
        "\n",
        "# Problem 1: Binary Classifier for Cancer-Risk Screening"
      ]
    },
    {
      "cell_type": "markdown",
      "metadata": {
        "id": "UQCkNh2Q3jrw"
      },
      "source": [
        "### Note:\n",
        "* You will need to finish **Code Task** for **Problem 1** before working on this notebook.\n",
        "* Your outputs, including tables and figures, don't need to be exactly the same as our sample outputs, but we do expect something as clear."
      ]
    },
    {
      "cell_type": "code",
      "execution_count": 1,
      "metadata": {
        "id": "VR9CeEWZ3jrw"
      },
      "outputs": [],
      "source": [
        "import os\n",
        "import numpy as np\n",
        "import pandas as pd\n",
        "\n",
        "import sklearn.linear_model\n",
        "import sklearn.metrics"
      ]
    },
    {
      "cell_type": "code",
      "execution_count": 2,
      "metadata": {
        "id": "maYh-I263jrx"
      },
      "outputs": [],
      "source": [
        "# import plotting libraries\n",
        "import matplotlib\n",
        "import matplotlib.pyplot as plt\n",
        "\n",
        "%matplotlib inline\n",
        "plt.style.use('seaborn-v0_8') # pretty matplotlib plots\n",
        "\n",
        "import seaborn as sns\n",
        "# sns.set('notebook', style='whitegrid', font_scale=1.25)\n",
        "\n",
        "# autoload changes in other files, so you don't have to restart the Jupyter kernel each time you make a change to the imported code.\n",
        "# %load_ext autoreload\n",
        "# %autoreload 2"
      ]
    },
    {
      "cell_type": "code",
      "source": [
        "SEED = 12345\n",
        "\n",
        "DATA_DIR = 'data_cancer'"
      ],
      "metadata": {
        "id": "_Wrpytqy-nJT"
      },
      "execution_count": 3,
      "outputs": []
    },
    {
      "cell_type": "code",
      "source": [
        "# If running in cloud on Google colab, this code will acquire necessary data files\n",
        "if os.getenv(\"COLAB_RELEASE_TAG\") and not os.path.exists(DATA_DIR):\n",
        "    !git clone https://github.com/madhuu2211/CS135_HW2_COPY.git\n",
        "    os.chdir(os.path.join('CS135_HW2_COPY'))\n",
        "if not os.path.exists(DATA_DIR):\n",
        "    raise ValueError(\"Need to run this script within a valid checkout of the cs135 repo\")"
      ],
      "metadata": {
        "id": "7BlIrOa6-kDy",
        "colab": {
          "base_uri": "https://localhost:8080/"
        },
        "outputId": "f3a090f3-baa3-4315-eef2-940987e49118"
      },
      "execution_count": 4,
      "outputs": [
        {
          "output_type": "stream",
          "name": "stdout",
          "text": [
            "Cloning into 'CS135_HW2_COPY'...\n",
            "remote: Enumerating objects: 80, done.\u001b[K\n",
            "remote: Counting objects: 100% (80/80), done.\u001b[K\n",
            "remote: Compressing objects: 100% (76/76), done.\u001b[K\n",
            "remote: Total 80 (delta 38), reused 0 (delta 0), pack-reused 0\u001b[K\n",
            "Receiving objects: 100% (80/80), 169.85 KiB | 12.13 MiB/s, done.\n",
            "Resolving deltas: 100% (38/38), done.\n"
          ]
        }
      ]
    },
    {
      "cell_type": "code",
      "source": [
        "ls"
      ],
      "metadata": {
        "colab": {
          "base_uri": "https://localhost:8080/"
        },
        "id": "tL3eySIM-ulO",
        "outputId": "c32ec361-d5a5-44c3-f219-5f90d0466c8a"
      },
      "execution_count": 5,
      "outputs": [
        {
          "output_type": "stream",
          "name": "stdout",
          "text": [
            "binary_metrics.py    figure2_sample.png  README.md\n",
            "Checkpoint1C.JPG     hw2_notebook.ipynb  threshold_selection.py\n",
            "confusion_matrix.py  logsumexp.py\n",
            "\u001b[0m\u001b[01;34mdata_cancer\u001b[0m/         proba_metrics.py\n"
          ]
        }
      ]
    },
    {
      "cell_type": "markdown",
      "metadata": {
        "id": "JFMpZPBl3jrx"
      },
      "source": [
        "# Import student-edited code\n",
        "\n",
        "Remember, you should have *completed* the Code Tasks for Problem 1 first."
      ]
    },
    {
      "cell_type": "code",
      "execution_count": 6,
      "metadata": {
        "id": "PAKzxAjc3jrx"
      },
      "outputs": [],
      "source": [
        "if not os.path.exists('binary_metrics.py'):\n",
        "    raise ImportError(\"CANNOT FIND binary_metrics.py. Make sure you run this notebook in same directory as your .py files.\")"
      ]
    },
    {
      "cell_type": "code",
      "execution_count": 7,
      "metadata": {
        "id": "RHy8OkD83jry"
      },
      "outputs": [],
      "source": [
        "from binary_metrics import (\n",
        "    calc_ACC, calc_TPR, calc_PPV)"
      ]
    },
    {
      "cell_type": "markdown",
      "metadata": {
        "id": "qRZPX6E83jry"
      },
      "source": [
        "# Import helper code (will work as provided, no edits needed)"
      ]
    },
    {
      "cell_type": "code",
      "execution_count": 8,
      "metadata": {
        "id": "dpMHx3T83jry"
      },
      "outputs": [],
      "source": [
        "import threshold_selection"
      ]
    },
    {
      "cell_type": "code",
      "execution_count": 9,
      "metadata": {
        "id": "GnIQV2mo3jry"
      },
      "outputs": [],
      "source": [
        "from confusion_matrix import calc_confusion_matrix_for_probas_and_threshold"
      ]
    },
    {
      "cell_type": "markdown",
      "metadata": {
        "id": "q0F6FIHD3jry"
      },
      "source": [
        "# Provided function for computing mean binary cross entropy\n",
        "\n",
        "Here, we provide a *completed* function you can use as is for Problem 1 report.\n",
        "\n",
        "Later in Problem 2, you'll write your own version of this function without using sklearn.\n",
        "\n",
        "Remember, we want the *base-2* cross entropy:\n",
        "\n",
        "$$\n",
        "BCE(y, p) = - y \\log_2 p - (1-y) \\log_2(1-p)\n",
        "$$"
      ]
    },
    {
      "cell_type": "code",
      "execution_count": 10,
      "metadata": {
        "id": "CK4y9HiZ3jry"
      },
      "outputs": [],
      "source": [
        "def calc_mean_binary_cross_entropy_from_probas(ytrue_N, yproba1_N):\n",
        "    ''' Compute mean binary cross entropy\n",
        "\n",
        "    Args\n",
        "    ----\n",
        "    ytrue_N : 1D array, size (n_examples,) = (N,)\n",
        "    yproba1_N : 1D array, size (n_examples,) = (N,)\n",
        "\n",
        "    Returns\n",
        "    -------\n",
        "    mean_bce : float\n",
        "        mean binary cross entropy across all N examples\n",
        "    '''\n",
        "    return sklearn.metrics.log_loss(ytrue_N, yproba1_N, labels=[0,1]) / np.log(2.0)"
      ]
    },
    {
      "cell_type": "code",
      "execution_count": 11,
      "metadata": {
        "colab": {
          "base_uri": "https://localhost:8080/"
        },
        "id": "8LPxkiy-3jry",
        "outputId": "38f05c53-da1e-4c8c-c046-ee6eea3d0106"
      },
      "outputs": [
        {
          "output_type": "execute_result",
          "data": {
            "text/plain": [
              "6.643856189774724"
            ]
          },
          "metadata": {},
          "execution_count": 11
        }
      ],
      "source": [
        "# Check that BCE loss is high if true class is 1 but probability is low\n",
        "calc_mean_binary_cross_entropy_from_probas([1.], [0.01])"
      ]
    },
    {
      "cell_type": "code",
      "execution_count": 12,
      "metadata": {
        "colab": {
          "base_uri": "https://localhost:8080/"
        },
        "id": "7loxpGcC3jrz",
        "outputId": "5bfeb74f-2700-4ba2-8d4d-23942f4dfb99"
      },
      "outputs": [
        {
          "output_type": "execute_result",
          "data": {
            "text/plain": [
              "1.0"
            ]
          },
          "metadata": {},
          "execution_count": 12
        }
      ],
      "source": [
        "# Check that BCE loss is exactly 1 if true class is 1 but probability is 0.5\n",
        "calc_mean_binary_cross_entropy_from_probas([1.], [0.5])"
      ]
    },
    {
      "cell_type": "code",
      "execution_count": 13,
      "metadata": {
        "colab": {
          "base_uri": "https://localhost:8080/"
        },
        "id": "va74j_s43jrz",
        "outputId": "d5b47597-9777-4103-e9b7-8554367cabf9"
      },
      "outputs": [
        {
          "output_type": "execute_result",
          "data": {
            "text/plain": [
              "0.01449956969511509"
            ]
          },
          "metadata": {},
          "execution_count": 13
        }
      ],
      "source": [
        "# Check that BCE loss is close to zero if true class is 1 but probability is 0.99\n",
        "calc_mean_binary_cross_entropy_from_probas([1.], [0.99])"
      ]
    },
    {
      "cell_type": "markdown",
      "metadata": {
        "id": "OOkVSXDW3jrz"
      },
      "source": [
        "# Load the dataset for problem 1"
      ]
    },
    {
      "cell_type": "code",
      "execution_count": 14,
      "metadata": {
        "id": "nnD5UWa53jrz"
      },
      "outputs": [],
      "source": [
        "# Make sure you have downloaded data and your directory is correct\n",
        "DATA_DIR = os.path.join('data_cancer')"
      ]
    },
    {
      "cell_type": "code",
      "execution_count": 15,
      "metadata": {
        "colab": {
          "base_uri": "https://localhost:8080/"
        },
        "id": "FYbG6GQC3jrz",
        "outputId": "59219658-3700-4f9c-df32-b8dbe40da140"
      },
      "outputs": [
        {
          "output_type": "stream",
          "name": "stdout",
          "text": [
            "Loaded  train : shape (390, 3)\n",
            "Loaded  valid : shape (180, 3)\n",
            "Loaded   test : shape (180, 3)\n"
          ]
        }
      ],
      "source": [
        "# Load 3 feature version of x arrays\n",
        "x_tr_M3 = np.loadtxt(os.path.join(DATA_DIR, 'x_train.csv'), delimiter=',', skiprows=1)\n",
        "x_va_N3 = np.loadtxt(os.path.join(DATA_DIR, 'x_valid.csv'), delimiter=',', skiprows=1)\n",
        "x_te_N3 = np.loadtxt(os.path.join(DATA_DIR, 'x_test.csv'), delimiter=',', skiprows=1)\n",
        "\n",
        "for label, x in [('train', x_tr_M3), ('valid', x_va_N3), ('test', x_te_N3)]:\n",
        "    print(\"Loaded %6s : shape %s\" % (label, x.shape))"
      ]
    },
    {
      "cell_type": "code",
      "execution_count": 16,
      "metadata": {
        "id": "GK6m7p0_3jrz"
      },
      "outputs": [],
      "source": [
        "N_shape = x_va_N3.shape\n",
        "M_shape = x_tr_M3.shape\n",
        "\n",
        "N = N_shape[0]\n",
        "M = M_shape[0]"
      ]
    },
    {
      "cell_type": "markdown",
      "metadata": {
        "id": "GctCZDfw3jrz"
      },
      "source": [
        "**TODO** : Load outcomes **y** arrays"
      ]
    },
    {
      "cell_type": "code",
      "execution_count": 17,
      "metadata": {
        "colab": {
          "base_uri": "https://localhost:8080/"
        },
        "id": "sAt-gFKT3jrz",
        "outputId": "68fbf033-ed1b-4885-f726-6f53b966f84a"
      },
      "outputs": [
        {
          "output_type": "stream",
          "name": "stdout",
          "text": [
            "Loaded  train : shape (180, 3)\n",
            "Loaded  valid : shape (180, 3)\n",
            "Loaded   test : shape (180, 3)\n"
          ]
        }
      ],
      "source": [
        "# Load outcomes y arrays\n",
        "# Hint: Follow the way we import x arrays.\n",
        "y_tr_M = np.loadtxt(os.path.join(DATA_DIR, 'y_train.csv'), delimiter=',', skiprows=1)\n",
        "y_va_N = np.loadtxt(os.path.join(DATA_DIR, 'y_valid.csv'), delimiter=',', skiprows=1)\n",
        "y_te_N = np.loadtxt(os.path.join(DATA_DIR, 'y_test.csv'), delimiter=',', skiprows=1)\n",
        "\n",
        "for label, y in [('train', y_tr_M), ('valid', y_va_N), ('test', y_te_N)]:\n",
        "    print(\"Loaded %6s : shape %s\" % (label, x.shape))"
      ]
    },
    {
      "cell_type": "code",
      "execution_count": 18,
      "metadata": {
        "id": "WqI3nEja3jrz"
      },
      "outputs": [],
      "source": [
        "# Load 2 feature version of x arrays\n",
        "x_tr_M2 = x_tr_M3[:, :2].copy()\n",
        "x_va_N2 = x_va_N3[:, :2].copy()\n",
        "x_te_N2 = x_te_N3[:, :2].copy()"
      ]
    },
    {
      "cell_type": "markdown",
      "metadata": {
        "id": "NXD1NTiS3jrz"
      },
      "source": [
        "# Problem 1:\n",
        "## Implementation Step 1A: Data Exploration"
      ]
    },
    {
      "cell_type": "markdown",
      "metadata": {
        "id": "hbI5sxjL3jrz"
      },
      "source": [
        "### Table 1\n",
        "\n",
        "Provide a table summarizing some basic properties of the provided training set, validation set, and test set:\n",
        "\n",
        "* Row 1 'total count': how many total examples are in each set?\n",
        "* Row 2 'positive label count': how many examples have a positive label (means cancer)?\n",
        "* Row 3 'fraction positive' : what fraction (between 0 and 1) of the examples have cancer?\n",
        "\n",
        "Your result should be 3 by 3 containing 'total count', 'positive label count' and 'fraction positive' of training, valid and test sets. An example of the output looks like this:\n",
        "\n",
        "|                               | train  |valid    |test|\n",
        "|:-|-:|-:|-:|\n",
        "|num. total examples            |567.000  |123.000  |123.000\n",
        "|num. positive examples         |56.000   |23.000   |23.000\n",
        "|fraction of positive examples  |0.123    |0.123    |0.123\n",
        "\n",
        "All results should **keep 3 digits**. We set a pandas display option to ensure that below."
      ]
    },
    {
      "cell_type": "markdown",
      "metadata": {
        "id": "4lqjiL6O3jr0"
      },
      "source": [
        "**TODO**: make a pandas dataframe with the correct data properties"
      ]
    },
    {
      "cell_type": "code",
      "execution_count": 19,
      "metadata": {
        "id": "mTgwvtBW3jr0"
      },
      "outputs": [],
      "source": [
        "table1_df = pd.DataFrame() # TODO fixme\n",
        "\n",
        "# Calculating Row 1 - total examples in each set\n",
        "total_train_count = len(y_tr_M)\n",
        "total_valid_count = len(y_va_N)\n",
        "total_test_count = len(y_te_N)\n",
        "\n",
        "# Calculating Row 2 - positive examples in each set\n",
        "# Counting function for determining the positive labels\n",
        "def count(lst):\n",
        "    return sum(bool(x) for x in lst)\n",
        "\n",
        "positive_train_count = count(y_tr_M)\n",
        "positive_valid_count = count(y_va_N)\n",
        "positive_test_count = count(y_te_N)\n",
        "\n",
        "# Calculating Row 3 - Fraction\n",
        "train_fraction = positive_train_count/total_train_count\n",
        "valid_fraction = positive_valid_count/total_valid_count\n",
        "test_fraction = positive_test_count/total_test_count\n",
        "\n",
        "table1_df.index = ['num. total examples', 'num. positive examples', 'fraction of positive examples']\n",
        "\n",
        "data = {'': ['num. total examples', 'num. positive examples', 'fraction of positive examples'],\n",
        "        'train': [total_train_count,positive_train_count,train_fraction],\n",
        "        'valid': [total_valid_count, positive_valid_count, valid_fraction],\n",
        "        'test': [total_test_count, positive_test_count, test_fraction]}\n",
        "\n",
        "table1_df = pd.DataFrame(data)"
      ]
    },
    {
      "cell_type": "code",
      "execution_count": 20,
      "metadata": {
        "colab": {
          "base_uri": "https://localhost:8080/"
        },
        "id": "APYR0ZS73jr0",
        "outputId": "b321fd01-b26a-4f55-d74b-ee4668227f76"
      },
      "outputs": [
        {
          "output_type": "stream",
          "name": "stdout",
          "text": [
            "                                    train    valid     test\n",
            "0            num. total examples  390.000  180.000  180.000\n",
            "1         num. positive examples   55.000   25.000   25.000\n",
            "2  fraction of positive examples    0.141    0.139    0.139\n"
          ]
        }
      ],
      "source": [
        "pd.set_option('display.precision', 3)\n",
        "print(table1_df)"
      ]
    },
    {
      "cell_type": "markdown",
      "metadata": {
        "id": "htD5JO_43jr0"
      },
      "source": [
        "##  Implementation Step 1B: The predict-0-always baseline"
      ]
    },
    {
      "cell_type": "markdown",
      "metadata": {
        "id": "xpPwWd0F3jr0"
      },
      "source": [
        "**TODO**: predict zero for all test data points"
      ]
    },
    {
      "cell_type": "code",
      "execution_count": 21,
      "metadata": {
        "colab": {
          "base_uri": "https://localhost:8080/"
        },
        "id": "TzDCXt0V3jr0",
        "outputId": "c3461986-4d7f-4215-a06f-947de76deea5"
      },
      "outputs": [
        {
          "output_type": "stream",
          "name": "stdout",
          "text": [
            "[0. 0. 0. 0. 0. 0. 0. 0. 0. 0. 0. 0. 0. 0. 0. 0. 0. 0. 0. 0. 0. 0. 0. 0.\n",
            " 0. 0. 0. 0. 0. 0. 0. 0. 0. 0. 0. 0. 0. 0. 0. 0. 0. 0. 0. 0. 0. 0. 0. 0.\n",
            " 0. 0. 0. 0. 0. 0. 0. 0. 0. 0. 0. 0. 0. 0. 0. 0. 0. 0. 0. 0. 0. 0. 0. 0.\n",
            " 0. 0. 0. 0. 0. 0. 0. 0. 0. 0. 0. 0. 0. 0. 0. 0. 0. 0. 0. 0. 0. 0. 0. 0.\n",
            " 0. 0. 0. 0. 0. 0. 0. 0. 0. 0. 0. 0. 0. 0. 0. 0. 0. 0. 0. 0. 0. 0. 0. 0.\n",
            " 0. 0. 0. 0. 0. 0. 0. 0. 0. 0. 0. 0. 0. 0. 0. 0. 0. 0. 0. 0. 0. 0. 0. 0.\n",
            " 0. 0. 0. 0. 0. 0. 0. 0. 0. 0. 0. 0. 0. 0. 0. 0. 0. 0. 0. 0. 0. 0. 0. 0.\n",
            " 0. 0. 0. 0. 0. 0. 0. 0. 0. 0. 0. 0.]\n"
          ]
        }
      ],
      "source": [
        "# Predicting zero for all test data points\n",
        "baseline_yhat_te_N = np.zeros_like(y_te_N)\n",
        "print(baseline_yhat_te_N)"
      ]
    },
    {
      "cell_type": "code",
      "execution_count": 22,
      "metadata": {
        "colab": {
          "base_uri": "https://localhost:8080/"
        },
        "id": "zAUcZ31-3jr0",
        "outputId": "4a438328-6dd2-4040-df41-eb740f9f342a"
      },
      "outputs": [
        {
          "output_type": "stream",
          "name": "stdout",
          "text": [
            "[0. 0. 0. 0. 0. 0. 0. 0. 0. 0. 0. 0. 0. 1. 0. 1. 0. 0. 0. 0. 0. 0. 0. 0.\n",
            " 0. 0. 0. 0. 0. 1. 0. 0. 1. 0. 0. 0. 0. 0. 0. 0. 1. 0. 1. 0. 0. 0. 1. 0.\n",
            " 0. 0. 0. 0. 0. 1. 0. 1. 0. 0. 0. 0. 0. 0. 0. 0. 1. 0. 1. 0. 1. 0. 1. 0.\n",
            " 0. 0. 0. 0. 0. 0. 0. 0. 0. 0. 0. 1. 0. 0. 0. 0. 0. 0. 0. 0. 0. 0. 0. 0.\n",
            " 0. 0. 0. 0. 0. 0. 0. 0. 0. 0. 1. 0. 1. 0. 0. 0. 0. 0. 0. 0. 0. 0. 0. 0.\n",
            " 0. 1. 0. 0. 0. 0. 0. 0. 0. 0. 0. 1. 0. 0. 1. 0. 0. 0. 0. 0. 1. 0. 0. 0.\n",
            " 0. 1. 0. 0. 0. 0. 0. 0. 1. 0. 0. 0. 0. 0. 1. 0. 0. 0. 0. 0. 0. 0. 0. 0.\n",
            " 0. 0. 1. 1. 0. 0. 0. 0. 0. 0. 0. 0.]\n"
          ]
        }
      ],
      "source": [
        "print(y_te_N)"
      ]
    },
    {
      "cell_type": "code",
      "execution_count": 23,
      "metadata": {
        "colab": {
          "base_uri": "https://localhost:8080/"
        },
        "id": "LHt4GLGv3jr0",
        "outputId": "68ba646b-fa63-4dfd-d809-429b1242afd8"
      },
      "outputs": [
        {
          "output_type": "stream",
          "name": "stdout",
          "text": [
            "Predicted    0  1\n",
            "True             \n",
            "0          155  0\n",
            "1           25  0\n"
          ]
        }
      ],
      "source": [
        "print(calc_confusion_matrix_for_probas_and_threshold(y_te_N, baseline_yhat_te_N, 0.5))"
      ]
    },
    {
      "cell_type": "markdown",
      "metadata": {
        "id": "OJEMjK7c3jr0"
      },
      "source": [
        "**TODO** Use the printed information from the previous code cell to calculate the accuracy of baseline.\n",
        "\n",
        "Keep 3 digits in your PDF report for short Answer 1a."
      ]
    },
    {
      "cell_type": "code",
      "execution_count": 24,
      "metadata": {
        "colab": {
          "base_uri": "https://localhost:8080/"
        },
        "id": "2w-tDKVo3jr0",
        "outputId": "9c9b9099-19d8-44de-c60a-902a5d31f765"
      },
      "outputs": [
        {
          "output_type": "stream",
          "name": "stdout",
          "text": [
            "Baseline has accuracy: 86.111%\n"
          ]
        }
      ],
      "source": [
        "# Calculate the accuracy of baseline with 3 numbers after the decimal\n",
        "baseline_acc = np.mean(baseline_yhat_te_N == y_te_N)*100\n",
        "print(\"Baseline has accuracy: {:.3f}%\".format(baseline_acc))"
      ]
    },
    {
      "cell_type": "markdown",
      "metadata": {
        "id": "A9Ftra9F3jr0"
      },
      "source": [
        "#### Short Answer 1a in Report\n",
        "\n",
        "*See instructions on website*"
      ]
    },
    {
      "cell_type": "code",
      "execution_count": 24,
      "metadata": {
        "id": "p4vDTZTk3jr0"
      },
      "outputs": [],
      "source": []
    },
    {
      "cell_type": "markdown",
      "metadata": {
        "id": "brdyR-Rk3jr0"
      },
      "source": [
        "## Implementation Step 1C : Logistic Regression with F=2 dataset"
      ]
    },
    {
      "cell_type": "markdown",
      "metadata": {
        "id": "35zmCEao3jr1"
      },
      "source": [
        "**TODO**: Complete each line marked TODO fixme in the codeblock below"
      ]
    },
    {
      "cell_type": "code",
      "execution_count": 25,
      "metadata": {
        "id": "_ZOGcH0k3jr1"
      },
      "outputs": [],
      "source": [
        "from sklearn.linear_model import LogisticRegression\n",
        "\n",
        "C_grid = np.logspace(-9, 6, 31)\n",
        "\n",
        "# We will fit a separate logistic regression for each C value in the C_grid\n",
        "# And store that classifier's performance metrics (lower is better)\n",
        "# So we can compare and select the best C in the future steps.\n",
        "\n",
        "model_F2_list = list()\n",
        "\n",
        "# Allocate lists for storing BCE metrics\n",
        "tr_bce_list = list()\n",
        "va_bce_list = list()\n",
        "te_bce_list = list()\n",
        "\n",
        "# Allocate lists for storing ERROR RATE metrics\n",
        "tr_err_list = list()\n",
        "va_err_list = list()\n",
        "te_err_list = list()\n",
        "\n",
        "# Remember, we justified BCE for training our classifier by saying\n",
        "# it provides an *upper bound* on the error rate.\n",
        "\n",
        "# Loop over C values, fit models, record metrics\n",
        "for C in C_grid:\n",
        "    # TODO: Follow the instruction in HW2 and train the model lr_F2\n",
        "    # Part a: Initialize a LogisticRegression classifier with desired C value\n",
        "    # Part b: train the model with the 2-feature dataset\n",
        "    lr_F2 = LogisticRegression(solver='lbfgs', C=C+1e-10)\n",
        "    lr_F2.fit(x_tr_M2[::5], y_tr_M[::5])\n",
        "\n",
        "    model_F2_list.append(lr_F2)\n",
        "\n",
        "    yproba1_tr_M = lr_F2.predict_proba(x_tr_M2)[:,1] # The probability of predicting class 1 on the training set\n",
        "    yproba1_va_N = lr_F2.predict_proba(x_va_N2)[:,1] # The probability of predicting class 1 on the validation set\n",
        "\n",
        "    # Compute error rate aka zero-one loss\n",
        "    my_tr_err = sklearn.metrics.zero_one_loss(y_tr_M, yproba1_tr_M >= 0.5)\n",
        "    my_va_err = sklearn.metrics.zero_one_loss(y_va_N, yproba1_va_N >= 0.5)\n",
        "    tr_err_list.append(my_tr_err)\n",
        "    va_err_list.append(my_va_err)\n",
        "\n",
        "    # TODO: using the calc_mean_binary_cross_entropy_from_probas() function from above:\n",
        "    # Part c: calculate the binary cross entropy (bce) on the training set\n",
        "    # Part d: calculate the binary cross entropy (bce) on the validation set\n",
        "    my_tr_bce = calc_mean_binary_cross_entropy_from_probas(y_tr_M, yproba1_tr_M)\n",
        "    my_va_bce = calc_mean_binary_cross_entropy_from_probas(y_va_N, yproba1_va_N)\n",
        "    # Save bce for future selection on Models.\n",
        "    tr_bce_list.append(my_tr_bce)\n",
        "    va_bce_list.append(my_va_bce)"
      ]
    },
    {
      "cell_type": "code",
      "execution_count": 26,
      "metadata": {
        "colab": {
          "base_uri": "https://localhost:8080/",
          "height": 514
        },
        "id": "If5bz9oF3jr1",
        "outputId": "6a3cdeac-c9d6-4d4b-8433-dede28d85cee"
      },
      "outputs": [
        {
          "output_type": "display_data",
          "data": {
            "text/plain": [
              "<Figure size 800x550 with 1 Axes>"
            ],
            "image/png": "[encoded data removed]"
          },
          "metadata": {}
        }
      ],
      "source": [
        "plt.plot(np.log10(C_grid), tr_bce_list, 'bs-', label='train BCE')\n",
        "plt.plot(np.log10(C_grid), va_bce_list, 'rs-', label='valid BCE')\n",
        "\n",
        "plt.plot(np.log10(C_grid), tr_err_list, 'b:', label='train err')\n",
        "plt.plot(np.log10(C_grid), va_err_list, 'r:', label='valid err')\n",
        "\n",
        "plt.ylabel('error')\n",
        "plt.xlabel(\"$\\log_{10} C$\");\n",
        "plt.legend(bbox_to_anchor=(1.5, 0.5)) # make legend outside plot\n",
        "plt.ylim([0, 0.7]);"
      ]
    },
    {
      "cell_type": "markdown",
      "metadata": {
        "id": "2uR4w5j23jr2"
      },
      "source": [
        "### Check Point:\n",
        "\n",
        "If your code is correct, you should produce exactly the same figure when you run the cell above as:\n",
        "\n",
        "**\"Checkpoint1C.jpg\"** in the same folder as your starter code.\n",
        "![image.png](Checkpoint1C.JPG)"
      ]
    },
    {
      "cell_type": "code",
      "execution_count": 27,
      "metadata": {
        "colab": {
          "base_uri": "https://localhost:8080/"
        },
        "id": "cOdG-rUz3jr2",
        "outputId": "8cb09bb4-4dd8-4896-ddf2-edea93a4e868"
      },
      "outputs": [
        {
          "output_type": "stream",
          "name": "stdout",
          "text": [
            "Searched over these C values:\n",
            "[1.00000000e-09 3.16227766e-09 1.00000000e-08 3.16227766e-08\n",
            " 1.00000000e-07 3.16227766e-07 1.00000000e-06 3.16227766e-06\n",
            " 1.00000000e-05 3.16227766e-05 1.00000000e-04 3.16227766e-04\n",
            " 1.00000000e-03 3.16227766e-03 1.00000000e-02 3.16227766e-02\n",
            " 1.00000000e-01 3.16227766e-01 1.00000000e+00 3.16227766e+00\n",
            " 1.00000000e+01 3.16227766e+01 1.00000000e+02 3.16227766e+02\n",
            " 1.00000000e+03 3.16227766e+03 1.00000000e+04 3.16227766e+04\n",
            " 1.00000000e+05 3.16227766e+05 1.00000000e+06]\n",
            "Recorded these BCE loss values on val set\n",
            "[0.5813487743738497, 0.5813487195514819, 0.581348547212858, 0.5813479973395475, 0.5813462622507398, 0.5813407756189642, 0.5813234319892999, 0.5812686332938557, 0.5810959139346279, 0.580554894148252, 0.5788950698039723, 0.5741120503840124, 0.5625616890332655, 0.5440817117614055, 0.5291643208730089, 0.5232777723610537, 0.5204870803194596, 0.5162509253873755, 0.5108783738010315, 0.507367137147781, 0.5059452994699907, 0.5054657848461036, 0.5053115434541193, 0.5052627405774547, 0.5052469287835435, 0.5052423844351928, 0.5052409170296247, 0.5052402726808116, 0.5052400663915555, 0.5052400014809475, 0.5052399810013898]\n"
          ]
        }
      ],
      "source": [
        "print(\"Searched over these C values:\")\n",
        "print(C_grid)\n",
        "\n",
        "print(\"Recorded these BCE loss values on val set\")\n",
        "print(va_bce_list)"
      ]
    },
    {
      "cell_type": "markdown",
      "metadata": {
        "id": "mNCe8unw3jr2"
      },
      "source": [
        "**TODO** Find the best C with the samllest cross entropy loss on the validation set."
      ]
    },
    {
      "cell_type": "code",
      "execution_count": 28,
      "metadata": {
        "colab": {
          "base_uri": "https://localhost:8080/"
        },
        "id": "PyMP07xl3jr2",
        "outputId": "166d77d5-f199-4d4b-a8ad-71079d2646fe"
      },
      "outputs": [
        {
          "output_type": "stream",
          "name": "stdout",
          "text": [
            "Best C value for F2 model:\n",
            "1000000.0\n"
          ]
        }
      ],
      "source": [
        "# Find the best C with the smallest cross entropy loss on the validation set\n",
        "best_index = np.argmin(va_bce_list)\n",
        "# print(np.argmin(va_bce_list))\n",
        "best_C__lrF2 = C_grid[best_index]\n",
        "\n",
        "print(\"Best C value for F2 model:\")\n",
        "print(best_C__lrF2)"
      ]
    },
    {
      "cell_type": "markdown",
      "metadata": {
        "id": "XXVWahUw3jr2"
      },
      "source": [
        "**TODO** Load the model that was rated 'best'"
      ]
    },
    {
      "cell_type": "code",
      "source": [
        "# Load the model that was rated the best\n",
        "best_lrF2 = model_F2_list[best_index]\n",
        "\n",
        "print(\"Best model has coefficient values:\")\n",
        "print(best_lrF2.coef_)"
      ],
      "metadata": {
        "colab": {
          "base_uri": "https://localhost:8080/"
        },
        "id": "xvupyYdrapWb",
        "outputId": "ff5b051a-940e-473b-8427-77a158e3378d"
      },
      "execution_count": 29,
      "outputs": [
        {
          "output_type": "stream",
          "name": "stdout",
          "text": [
            "Best model has coefficient values:\n",
            "[[0.17510302 0.83405026]]\n"
          ]
        }
      ]
    },
    {
      "cell_type": "code",
      "execution_count": 30,
      "metadata": {
        "id": "AWpKOgQ23jr3"
      },
      "outputs": [],
      "source": [
        "# Output the prediction of your best model for 2-feature data on the training, valid, and test set.\n",
        "# Return the posibility of predicting true\n",
        "# We'll use them for the ROC curve\n",
        "bestlrF2_yproba1_tr_M = best_lrF2.predict_proba(x_tr_M2)[:,1]\n",
        "bestlrF2_yproba1_va_N = best_lrF2.predict_proba(x_va_N2)[:,1]\n",
        "bestlrF2_yproba1_te_N = best_lrF2.predict_proba(x_te_N2)[:,1]\n"
      ]
    },
    {
      "cell_type": "markdown",
      "metadata": {
        "id": "iO1RbxUn3jr3"
      },
      "source": [
        "## Implementation Step 1D : Logistic Regression with F=3 dataset\n",
        "**TODO**:\n",
        "* Repeat Step 1C for 3-feature Dataset to find the best C."
      ]
    },
    {
      "cell_type": "code",
      "execution_count": 31,
      "metadata": {
        "id": "0geY_u1a3jr3"
      },
      "outputs": [],
      "source": [
        "C_grid = np.logspace(-9, 6, 31)\n",
        "\n",
        "# We will fit a separate logistic regression for each C value in the C_grid\n",
        "# And store that classifier's performance metrics (lower is better)\n",
        "# So we can compare and select the best C in the future steps.\n",
        "\n",
        "model_F3_list = list()\n",
        "\n",
        "# Allocate lists for storing BCE metrics\n",
        "tr_bce_list = list()\n",
        "va_bce_list = list()\n",
        "te_bce_list = list()\n",
        "\n",
        "# Allocate lists for storing ERROR RATE metrics\n",
        "tr_err_list = list()\n",
        "va_err_list = list()\n",
        "te_err_list = list()\n",
        "\n",
        "# Remember, we justified BCE for training our classifier by saying\n",
        "# it provides an *upper bound* on the error rate.\n",
        "\n",
        "# Loop over C values, fit models, record metrics\n",
        "for C in C_grid:\n",
        "    # TODO: Follow the instruction in HW2 and train the model lr_F2\n",
        "    # Part a: Initialize a LogisticRegression classifier with desired C value\n",
        "    # Part b: train the model with the 2-feature dataset\n",
        "    lr_F3 = sklearn.linear_model.LogisticRegression(C=C+1e-10)\n",
        "    lr_F3.fit(x_tr_M3[::5], y_tr_M[::5])\n",
        "\n",
        "    model_F3_list.append(lr_F3)\n",
        "\n",
        "    yproba1_tr_M = lr_F3.predict_proba(x_tr_M3)[:,1] # The probability of predicting class 1 on the training set\n",
        "    yproba1_va_N = lr_F3.predict_proba(x_va_N3)[:,1] # The probability of predicting class 1 on the validation set\n",
        "\n",
        "    # Compute error rate aka zero-one loss\n",
        "    my_tr_err = sklearn.metrics.zero_one_loss(y_tr_M, yproba1_tr_M >= 0.5)\n",
        "    my_va_err = sklearn.metrics.zero_one_loss(y_va_N, yproba1_va_N >= 0.5)\n",
        "    tr_err_list.append(my_tr_err)\n",
        "    va_err_list.append(my_va_err)\n",
        "\n",
        "    # TODO: using the calc_mean_binary_cross_entropy_from_probas() function from above:\n",
        "    # Part c: calculate the binary cross entropy (bce) on the training set\n",
        "    # Part d: calculate the binary cross entropy (bce) on the validation set\n",
        "    my_tr_bce = calc_mean_binary_cross_entropy_from_probas(y_tr_M, yproba1_tr_M)\n",
        "    my_va_bce = calc_mean_binary_cross_entropy_from_probas(y_va_N, yproba1_va_N)\n",
        "    # Save bce for future selection on Models.\n",
        "    tr_bce_list.append(my_tr_bce)\n",
        "    va_bce_list.append(my_va_bce)"
      ]
    },
    {
      "cell_type": "code",
      "source": [
        "plt.plot(np.log10(C_grid), tr_bce_list, 'bs-', label='train BCE')\n",
        "plt.plot(np.log10(C_grid), va_bce_list, 'rs-', label='valid BCE')\n",
        "\n",
        "plt.plot(np.log10(C_grid), tr_err_list, 'b:', label='train err')\n",
        "plt.plot(np.log10(C_grid), va_err_list, 'r:', label='valid err')\n",
        "\n",
        "plt.ylabel('error')\n",
        "plt.xlabel(\"$\\log_{10} C$\");\n",
        "plt.legend(bbox_to_anchor=(1.5, 0.5)) # make legend outside plot\n",
        "plt.ylim([0, 0.7]);"
      ],
      "metadata": {
        "colab": {
          "base_uri": "https://localhost:8080/",
          "height": 514
        },
        "id": "fmN2FSPRdxqd",
        "outputId": "b5d58a33-37da-42e1-aabd-c2a370ebf2f7"
      },
      "execution_count": 32,
      "outputs": [
        {
          "output_type": "display_data",
          "data": {
            "text/plain": [
              "<Figure size 800x550 with 1 Axes>"
            ],
            "image/png": "[encoded data removed]"
          },
          "metadata": {}
        }
      ]
    },
    {
      "cell_type": "markdown",
      "metadata": {
        "id": "xvRSIs5g3jr3"
      },
      "source": [
        "**TODO**:\n",
        "* Select the best C and retrieve the best model. You should name the model as \"**best_lrF3**\"."
      ]
    },
    {
      "cell_type": "code",
      "execution_count": 33,
      "metadata": {
        "colab": {
          "base_uri": "https://localhost:8080/"
        },
        "id": "c8UXj1rK3jr3",
        "outputId": "68d8828b-d416-49b9-9835-1509ef0ca3dc"
      },
      "outputs": [
        {
          "output_type": "stream",
          "name": "stdout",
          "text": [
            "Best C value for F3 model:\n",
            "1000000.0\n",
            "\n",
            "Best model has coefficient values:\n",
            "[[0.1906325  0.82095727 0.51147125]]\n"
          ]
        }
      ],
      "source": [
        "# Find the best C with the smallest cross entropy loss on the validation set\n",
        "best_index = np.argmin(va_bce_list)\n",
        "# print(np.argmin(va_bce_list))\n",
        "best_C__lrF3 = C_grid[best_index]\n",
        "\n",
        "print(\"Best C value for F3 model:\")\n",
        "print(best_C__lrF3)\n",
        "print()\n",
        "\n",
        "# Load the model that was rated the best\n",
        "best_lrF3 = model_F3_list[best_index]\n",
        "\n",
        "print(\"Best model has coefficient values:\")\n",
        "print(best_lrF3.coef_)"
      ]
    },
    {
      "cell_type": "markdown",
      "metadata": {
        "id": "zFa7eyHM3jr3"
      },
      "source": [
        "**TODO**:\n",
        "* Return the posibility of predicting true on training, validation and test set."
      ]
    },
    {
      "cell_type": "code",
      "execution_count": 34,
      "metadata": {
        "id": "WHtoeD-q3jr3"
      },
      "outputs": [],
      "source": [
        "# TODO: Return the posibility of predicting true on training, validation and test set.\n",
        "# Hint: follow what's done in the last code block of Step 1C.\n",
        "\n",
        "prng = np.random.RandomState(101)\n",
        "bestlrF3_yproba1_tr_M = best_lrF3.predict_proba(x_tr_M3)[:, 1]\n",
        "bestlrF3_yproba1_va_N = best_lrF3.predict_proba(x_va_N3)[:, 1]\n",
        "bestlrF3_yproba1_te_N = best_lrF3.predict_proba(x_te_N3)[:, 1]"
      ]
    },
    {
      "cell_type": "markdown",
      "metadata": {
        "id": "vrie4GB23jr3"
      },
      "source": [
        "## Implementation Step 1E : Comparing Models using ROC Analysis\n",
        "**TODO**:\n",
        "Follow the instruction to produce the figure for your report"
      ]
    },
    {
      "cell_type": "code",
      "execution_count": 35,
      "metadata": {
        "id": "xC33WXE83jr3",
        "outputId": "baa4cb80-68d5-47bc-fe41-978c0585a424",
        "colab": {
          "base_uri": "https://localhost:8080/",
          "height": 485
        }
      },
      "outputs": [
        {
          "output_type": "display_data",
          "data": {
            "text/plain": [
              "<Figure size 500x500 with 1 Axes>"
            ],
            "image/png": "[encoded data removed]"
          },
          "metadata": {}
        }
      ],
      "source": [
        "from sklearn.metrics import roc_curve, auc\n",
        "# Follow the instruction of HW2 and produce Figure 1 for your report:\n",
        "plt.subplots(nrows=1, ncols=1, figsize=(5,5));\n",
        "\n",
        "y_pred_prob_F2 = bestlrF2_yproba1_va_N\n",
        "y_pred_prob_F3 = bestlrF3_yproba1_va_N\n",
        "\n",
        "# TODO Use provided data and predictions on the Validation set\n",
        "# Produce the ROC Curve utilizing `sklearn.metrics.roc_curve' within plt defined above.\n",
        "# To start, read the official Document and examples of 'sklearn.metrics.roc_curve'.\n",
        "\n",
        "# Computing FPR, TPR and thresholds for both 2 feature and 3 features\n",
        "fpr_F2, tpr_F2, thresholds_F2 = roc_curve(y_va_N, y_pred_prob_F2)\n",
        "fpr_F3, tpr_F3, thresholds_F3 = roc_curve(y_va_N, y_pred_prob_F3)\n",
        "\n",
        "# Computing the area under the curve\n",
        "auc_F2 = auc(fpr_F2, tpr_F2)\n",
        "auc_F3 = auc(fpr_F3, tpr_F3)\n",
        "\n",
        "# Read HW2 instructions carefully for plot style (line type, line color, etc.)\n",
        "plt.plot(fpr_F2, tpr_F2, '.-', color='blue', label='F=2 (AUC = %0.3f)' % auc_F2)\n",
        "plt.plot(fpr_F3, tpr_F3, '.-', color='red', label='F=3 (AUC = %0.3f)' % auc_F3)\n",
        "plt.plot([0, 1], [0, 1], 'k--')\n",
        "\n",
        "plt.title(\"ROC on Validation Set\");\n",
        "plt.xlabel('false positive rate');\n",
        "plt.ylabel('true positive rate');\n",
        "plt.legend(loc='lower right');\n",
        "B = 0.01\n",
        "plt.xlim([0 - B, 1 + B]);\n",
        "plt.ylim([0 - B, 1 + B]);"
      ]
    },
    {
      "cell_type": "markdown",
      "metadata": {
        "id": "FX0WzS7V3jr3"
      },
      "source": [
        "### Figure 1 for the report: Comparing models using ROC analysis\n",
        "**TODO**:\n",
        "Show the figure above in your report"
      ]
    },
    {
      "cell_type": "markdown",
      "metadata": {
        "id": "q92dgpD_3jr3"
      },
      "source": [
        "#### Short Answer 1b in Report\n",
        "\n",
        "*See instructions on website*"
      ]
    },
    {
      "cell_type": "code",
      "execution_count": 35,
      "metadata": {
        "id": "qTlDJwxr3jr3"
      },
      "outputs": [],
      "source": []
    },
    {
      "cell_type": "markdown",
      "metadata": {
        "id": "CFLwXh1Z3jr4"
      },
      "source": [
        "## Implementation Step 1F & 1G: Selecting a decision threshold\n"
      ]
    },
    {
      "cell_type": "markdown",
      "metadata": {
        "id": "qtfJKvVR3jr4"
      },
      "source": [
        "**TODO**: Follow the instructions below to produce Figure 2\n",
        "\n",
        "Each column should correspond to one of the following models:\n",
        "\n",
        "* F=3 Logistic Regression (from 1D above), using threshold 0.5\n",
        "* F=3 Logistic Regression (from 1D above), using threshold from **1F** (See **Figure2 Column2** for implementation instruction)\n",
        "* F=3 Logistic Regression (from 1D above), using threshold from **1G** (See **Figure2 Column3** for implementation instruction)\n",
        "\n",
        "Each row should report some performance of the model on the **test** set:\n",
        "* Title: **Threshold** **(with 3 digits after decimal)** + which case (i.e **default**, **PPV >= 0.98** or **TPR>=0.98**)\n",
        "* Top Row: **Confusion Matrix** on the test set. **(with Integers)**\n",
        "* Bottom Row: **TPR** and **PPV** metrics on the test set. **(with 3 digits after decimal)**\n",
        "\n",
        "We've offered an example output on each column of Figure 2, but feel free to print out all the value needed and organize them with any software (Jupyter Notebook, Excel, Latex, etc). Then,\n",
        "**combine all columns into one figure and include it in your PDF report.**\n",
        "\n",
        "An example of Figure2 looks like\n",
        "**\"figure2_sample.png\"** in the same folder as your starter code.\n",
        "![image.png](figure2_sample.png)"
      ]
    },
    {
      "cell_type": "markdown",
      "metadata": {
        "id": "V9rUeA3W3jr4"
      },
      "source": []
    },
    {
      "cell_type": "markdown",
      "metadata": {
        "id": "nMjI-1Zf3jr4"
      },
      "source": [
        "### Figure2 Column1: Use F=3 LR model, Use default 0.5 threshold\n",
        "#### TODO:\n",
        "* Produce the confusion matrix\n",
        "* Return TPR and PPV on the test set"
      ]
    },
    {
      "cell_type": "code",
      "source": [],
      "metadata": {
        "id": "UBOng-pkbD5r"
      },
      "execution_count": 35,
      "outputs": []
    },
    {
      "cell_type": "code",
      "source": [],
      "metadata": {
        "id": "8gCc4miOXC4H"
      },
      "execution_count": 36,
      "outputs": []
    },
    {
      "cell_type": "code",
      "execution_count": 42,
      "metadata": {
        "id": "VbaAkZBY3jr4",
        "outputId": "07f9002b-5c5f-4f36-bd74-e212cf35df15",
        "colab": {
          "base_uri": "https://localhost:8080/"
        }
      },
      "outputs": [
        {
          "output_type": "stream",
          "name": "stdout",
          "text": [
            "Figure2 column 1: chosen thr = 0.5000, tpr = 0.2400, ppv = 0.2400,\n"
          ]
        }
      ],
      "source": [
        "from threshold_selection import compute_perf_metrics_across_thresholds\n",
        "from binary_metrics import calc_TPR, calc_PPV\n",
        "\n",
        "\n",
        "#print(y_pred_prob_F3)\n",
        "best_thr_default = 0.5\n",
        "tpr = calc_TPR(y_va_N, y_te_N)\n",
        "ppv = calc_PPV(y_va_N, y_te_N)\n",
        "\n",
        "print(f\"Figure2 column 1: chosen thr = {best_thr_default :.4f}, tpr = {tpr :.4f}, ppv = {ppv :.4f},\")"
      ]
    },
    {
      "cell_type": "markdown",
      "metadata": {
        "id": "rKrh687l3jr4"
      },
      "source": [
        "### Step 1F : Use F=3 LR model, Pick threshold to maximize TPR s.t. PPV >= 0.98"
      ]
    },
    {
      "cell_type": "markdown",
      "metadata": {
        "id": "WM3L8ZAg3jr4"
      },
      "source": [
        "**TODO**: Finish the code block to get the best threshold."
      ]
    },
    {
      "cell_type": "code",
      "execution_count": 43,
      "metadata": {
        "id": "VokslUMf3jr4"
      },
      "outputs": [],
      "source": [
        "# Get the performance metrics across many thresholds\n",
        "thresh_grid, va_perf_grid = threshold_selection.compute_perf_metrics_across_thresholds(\n",
        "    y_va_N, y_te_N)"
      ]
    },
    {
      "cell_type": "code",
      "execution_count": 52,
      "metadata": {
        "id": "g8QhUz0W3jr4",
        "outputId": "2653f8ff-042c-4e6a-9d88-b412252ee2d1",
        "colab": {
          "base_uri": "https://localhost:8080/"
        }
      },
      "outputs": [
        {
          "output_type": "stream",
          "name": "stdout",
          "text": [
            "---------DEFAULT-------------\n",
            "Predicted    0  1\n",
            "True             \n",
            "0          154  1\n",
            "1           21  4\n",
            "\n",
            "0.0\n",
            "0.0\n",
            "---------MAX TPR S.T. PPV >0.98 -------------\n",
            "Predicted    0  1\n",
            "True             \n",
            "0          155  0\n",
            "1           25  0\n",
            "\n",
            "0.0\n",
            "0.0\n",
            "---------MAX PPV S.T. TPR >0.98 -------------\n",
            "Predicted    0  1\n",
            "True             \n",
            "0          155  0\n",
            "1           25  0\n",
            "\n",
            "0.0\n",
            "0.0\n"
          ]
        }
      ],
      "source": [
        "from confusion_matrix import calc_confusion_matrix_for_probas_and_threshold\n",
        "# from tabulate import tabulate\n",
        "\n",
        "# F=3 Logistic Regression (from 1D above), using threshold 0.5\n",
        "best_thr_default = 0.5\n",
        "tpr_default = calc_TPR(y_te_N, bestlrF3_yproba1_te_N)\n",
        "ppv_default = calc_PPV(y_te_N, bestlrF3_yproba1_te_N)\n",
        "confusion_matrix_default = calc_confusion_matrix_for_probas_and_threshold(y_te_N, bestlrF3_yproba1_te_N,best_thr_default)\n",
        "\n",
        "# F=3 Logistic Regression (from 1D above), using threshold from 1F\n",
        "best_thr_ppv = 0.98  # TODO: Implement threshold selection based on PPV >= 0.98\n",
        "tpr_ppv = calc_TPR(y_te_N, bestlrF3_yproba1_te_N)\n",
        "ppv_ppv = calc_PPV(y_te_N, bestlrF3_yproba1_te_N)\n",
        "confusion_matrix_ppv = calc_confusion_matrix_for_probas_and_threshold(y_te_N, bestlrF3_yproba1_te_N,best_thr_ppv)\n",
        "\n",
        "# F=3 Logistic Regression (from 1D above), using threshold from 1G\n",
        "best_thr_tpr = 0.98 # TODO: Implement threshold selection based on TPR >= 0.98\n",
        "tpr_tpr = calc_TPR(y_te_N, bestlrF3_yproba1_te_N)\n",
        "ppv_tpr = calc_PPV(y_te_N, bestlrF3_yproba1_te_N)\n",
        "confusion_matrix_tpr = calc_confusion_matrix_for_probas_and_threshold(y_te_N, bestlrF3_yproba1_te_N,best_thr_tpr)\n",
        "\n",
        "# Plotting Figure 2\n",
        "# fig, axes = plt.subplots(nrows=2, ncols=3, figsize=(12, 8))\n",
        "\n",
        "print(\"---------DEFAULT-------------\")\n",
        "print(confusion_matrix_default)\n",
        "print()\n",
        "\n",
        "print(tpr_default)\n",
        "print(ppv_default)\n",
        "\n",
        "print(\"---------MAX TPR S.T. PPV >0.98 -------------\")\n",
        "print(confusion_matrix_ppv)\n",
        "print()\n",
        "\n",
        "print(tpr_ppv)\n",
        "print(ppv_ppv)\n",
        "\n",
        "print(\"---------MAX PPV S.T. TPR >0.98 -------------\")\n",
        "print(confusion_matrix_tpr)\n",
        "print()\n",
        "\n",
        "print(tpr_tpr)\n",
        "print(tpr_ppv)\n",
        "\n"
      ]
    },
    {
      "cell_type": "markdown",
      "metadata": {
        "id": "mN7hhpU33jr4"
      },
      "source": [
        "**TODO**: Using the chosen **best_thr** above\n",
        "* Produce the confusion matrix\n",
        "* Return TPR and PPV on the test set"
      ]
    },
    {
      "cell_type": "code",
      "execution_count": 39,
      "metadata": {
        "id": "InogRxNp3jr4"
      },
      "outputs": [],
      "source": []
    },
    {
      "cell_type": "markdown",
      "metadata": {
        "id": "XQYWpcKp3jr4"
      },
      "source": [
        "### Step 1G: Use F=3 LR model, Pick threshold to maximize PPV s.t. TPR >= 0.98\n",
        "\n",
        "#### TODO:\n",
        "Using a similar logistic from **Step 1F** above\n",
        "* Choose threshold that makes TPR as large as possible, while satisfying PPV >= 0.98\n",
        "* Produce the confusion matrix using the chosen threshold\n",
        "* Return TPR and PPV on the test set using the chosen threshold"
      ]
    },
    {
      "cell_type": "code",
      "execution_count": 54,
      "metadata": {
        "id": "eIYZo6RG3jr5",
        "outputId": "c28ce806-a95c-42e3-8fb8-c9446de60fd2",
        "colab": {
          "base_uri": "https://localhost:8080/"
        }
      },
      "outputs": [
        {
          "output_type": "stream",
          "name": "stdout",
          "text": [
            "Figure2 column 3: chosen thr = 0.5000, tpr = 0.0000, ppv = 0.0000\n"
          ]
        }
      ],
      "source": [
        "# Find threshold that makes TPR as large as possible, while satisfying PPV >= 0.98\n",
        "# TODO Find the largest PPV while TPR >= 0.98\n",
        "best_thr_ppv = 0.5 # TODO fixme\n",
        "tpr2 = 0.0 # TODO fixme\n",
        "ppv2 = 0.0 # TODO fixme\n",
        "\n",
        "# Iterating over thresholds to find the best one\n",
        "for threshold in np.arange(0.0, 1.01, 0.01):\n",
        "  tpr2 = calc_TPR(y_te_N, bestlrF3_yproba1_te_N)\n",
        "  ppv2 = calc_PPV(y_te_N, bestlrF3_yproba1_te_N)\n",
        "\n",
        "best_tpr2 = 0\n",
        "best_ppv2 = 0\n",
        "# Checking if current threshold is better than the one preciously calculted\n",
        "if ppv2 >= 0.98 and tpr2 > best_thr_ppv:\n",
        "  best_thr_ppv = threshold\n",
        "  best_tpr2 = tpr2\n",
        "  best_ppv2 = ppv2\n",
        "\n",
        "print(\"Figure2 column 3: chosen thr = %.4f, tpr = %.4f, ppv = %.4f\" % (best_thr_ppv, best_tpr2, best_ppv2))"
      ]
    },
    {
      "cell_type": "code",
      "source": [],
      "metadata": {
        "id": "pD4c5qDxyX9P"
      },
      "execution_count": null,
      "outputs": []
    },
    {
      "cell_type": "markdown",
      "metadata": {
        "id": "pXMfaggJ3jr5"
      },
      "source": [
        "Once you finish all three parts of figure 2, plase **combine all 3 column** into **one figure** and include it in your PDF report.\n",
        "\n",
        "Remember to **add titles** (Threshold + which case) to each column."
      ]
    },
    {
      "cell_type": "markdown",
      "metadata": {
        "id": "_hlbjEmO3jr5"
      },
      "source": [
        "#### Short Answer 1c and 1d in Report\n",
        "\n",
        "*See instructions on website*"
      ]
    },
    {
      "cell_type": "code",
      "execution_count": 40,
      "metadata": {
        "id": "cLcBZQ9b3jr5"
      },
      "outputs": [],
      "source": []
    },
    {
      "cell_type": "code",
      "execution_count": 40,
      "metadata": {
        "id": "Fc7n6J0t3jr5"
      },
      "outputs": [],
      "source": []
    }
  ],
  "metadata": {
    "kernelspec": {
      "display_name": "python3",
      "language": "python",
      "name": "python3"
    },
    "colab": {
      "provenance": []
    }
  },
  "nbformat": 4,
  "nbformat_minor": 0
}